{
 "cells": [
  {
   "cell_type": "code",
   "execution_count": 4,
   "metadata": {
    "scrolled": false
   },
   "outputs": [],
   "source": [
    "import nltk\n",
    "import gensim\n",
    "from nltk.tokenize import word_tokenize, sent_tokenize\n",
    "from gensim.models import Word2Vec\n",
    "from sklearn.decomposition import PCA\n",
    "from matplotlib import pyplot"
   ]
  },
  {
   "cell_type": "code",
   "execution_count": 5,
   "metadata": {
    "scrolled": false
   },
   "outputs": [
    {
     "name": "stdout",
     "output_type": "stream",
     "text": [
      "Word2Vec(vocab=22, size=100, alpha=0.025)\n",
      "['hey', 'how', 'are', 'you', 'doing', '.', 'is', 'it', 'going', 'today', 'i', 'am', 'very', 'well', 'not', 'that', 'was', 'alright', 'compared', 'to', 'other', 'days']\n",
      "[ 5.4478977e-04 -1.2532399e-03 -7.8870769e-04 -3.4975386e-03\n",
      " -1.2117517e-03  4.8397379e-03 -1.7483638e-03  1.9752439e-03\n",
      " -2.5745158e-04 -1.2395022e-03 -9.8169316e-04  1.8478017e-03\n",
      "  2.5424550e-03  4.7448603e-03 -2.9549759e-03  3.0027232e-03\n",
      " -6.5748597e-04 -2.0769257e-03 -3.1848683e-03 -2.2018212e-03\n",
      "  2.8143506e-04  1.8847303e-03 -3.5503989e-03  5.2638614e-04\n",
      "  1.4006849e-03  4.4067749e-03  3.8622501e-03  2.8899449e-03\n",
      " -1.8506040e-03 -1.4525102e-03  4.8321448e-03  1.2712576e-04\n",
      " -3.0567513e-03 -4.5539960e-03  3.4541094e-03  2.7959752e-03\n",
      " -4.4070990e-03 -2.9337108e-03 -2.9234253e-03 -2.7892055e-04\n",
      " -1.3728123e-03  2.3370702e-03  1.1495767e-03  4.2211544e-05\n",
      " -3.1551505e-03  6.5507821e-04  4.7806590e-03 -1.4276822e-03\n",
      "  4.5571425e-03 -1.2100900e-05 -2.2685961e-03 -2.8124440e-03\n",
      "  2.0351207e-03 -3.7842353e-03  3.1063540e-03 -2.9287369e-03\n",
      " -3.0488772e-03  2.9631755e-03  2.9431544e-03 -3.0304699e-03\n",
      "  3.3880556e-03  4.7507114e-03 -4.4378545e-03  3.0019500e-03\n",
      " -9.2829997e-04  3.0982809e-03 -1.7049208e-03 -2.7460118e-03\n",
      "  2.8526727e-03 -1.7209268e-03 -1.9944391e-04 -1.5539701e-04\n",
      "  4.7495239e-03  4.8054983e-03 -2.0657072e-03  2.8151295e-03\n",
      "  1.7397699e-03  2.9173668e-03 -3.6612530e-03  6.6431159e-05\n",
      "  4.1111675e-03  2.2880426e-03 -3.3515331e-03  3.6812399e-03\n",
      "  2.4851065e-03  4.2932788e-03 -3.7183058e-03  4.1541737e-03\n",
      " -3.4571530e-03 -4.3778340e-03  2.5594409e-03  3.1038988e-03\n",
      "  2.8076654e-03 -9.3652646e-04  1.1363449e-03 -2.6261462e-03\n",
      " -2.1852970e-03 -1.0550509e-03 -1.3009573e-03  4.6056928e-03]\n",
      "Word2Vec(vocab=22, size=100, alpha=0.025)\n"
     ]
    }
   ],
   "source": [
    "testsplit = []\n",
    "\n",
    "with open ('TestSentences.txt') as x:\n",
    "    sentences = sent_tokenize(x.read())\n",
    "\n",
    "dictsent = [[y.lower() for y in word_tokenize(x)] for x in sentences]\n",
    "model = Word2Vec(dictsent, min_count=1)\n",
    "print(model)\n",
    "words = list(model.wv.vocab)\n",
    "print(words)\n",
    "print(model.wv['doing'])\n",
    "model.save('model.bin')\n",
    "new_model = Word2Vec.load('model.bin')\n",
    "print(new_model)"
   ]
  },
  {
   "cell_type": "code",
   "execution_count": 6,
   "metadata": {},
   "outputs": [
    {
     "name": "stderr",
     "output_type": "stream",
     "text": [
      "C:\\Users\\rayri\\Anaconda3\\lib\\site-packages\\ipykernel_launcher.py:1: DeprecationWarning: Call to deprecated `__getitem__` (Method will be removed in 4.0.0, use self.wv.__getitem__() instead).\n",
      "  \"\"\"Entry point for launching an IPython kernel.\n"
     ]
    },
    {
     "data": {
      "image/png": "[encoded data removed]",
      "text/plain": [
       "<Figure size 432x288 with 1 Axes>"
      ]
     },
     "metadata": {
      "needs_background": "light"
     },
     "output_type": "display_data"
    }
   ],
   "source": [
    "X = model[model.wv.vocab]\n",
    "pca = PCA(n_components=2)\n",
    "result = pca.fit_transform(X)\n",
    "pyplot.scatter(result[:, 0], result[:, 1])\n",
    "words = list(model.wv.vocab)\n",
    "for i, word in enumerate(words):\n",
    "    pyplot.annotate(word, xy=(result[i, 0], result[i, 1]))\n",
    "pyplot.show()"
   ]
  },
  {
   "cell_type": "code",
   "execution_count": null,
   "metadata": {},
   "outputs": [],
   "source": []
  }
 ],
 "metadata": {
  "kernelspec": {
   "display_name": "Python 3",
   "language": "python",
   "name": "python3"
  },
  "language_info": {
   "codemirror_mode": {
    "name": "ipython",
    "version": 3
   },
   "file_extension": ".py",
   "mimetype": "text/x-python",
   "name": "python",
   "nbconvert_exporter": "python",
   "pygments_lexer": "ipython3",
   "version": "3.7.3"
  }
 },
 "nbformat": 4,
 "nbformat_minor": 2
}
